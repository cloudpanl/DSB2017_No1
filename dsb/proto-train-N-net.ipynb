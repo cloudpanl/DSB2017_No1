{
 "cells": [
  {
   "cell_type": "code",
   "execution_count": 1,
   "metadata": {},
   "outputs": [],
   "source": [
    "import numpy as np\n",
    "from training.config_training import config as config_training\n",
    "from importlib import import_module\n",
    "from torch.utils.data import DataLoader\n",
    "from training.detector import data"
   ]
  },
  {
   "cell_type": "code",
   "execution_count": 2,
   "metadata": {},
   "outputs": [],
   "source": [
    "def convert_npy(fname):\n",
    "    a = np.load(fname, encoding='latin1')\n",
    "    if len(a.shape) is 1 and (isinstance(a[0], bytes)):\n",
    "        tmp = []\n",
    "        for i in a:\n",
    "            tmp.append(i.decode())\n",
    "        a = np.array(tmp)\n",
    "        np.save(fname, a)\n",
    "        print('done')\n",
    "    else:\n",
    "        print('Skip converting.')\n",
    "    "
   ]
  },
  {
   "cell_type": "code",
   "execution_count": 4,
   "metadata": {},
   "outputs": [],
   "source": [
    "# convert_npy('./training/detector/valsplit.npy')"
   ]
  },
  {
   "cell_type": "code",
   "execution_count": 5,
   "metadata": {},
   "outputs": [
    {
     "data": {
      "text/plain": [
       "array(['61c0247462b00b95c4df16edd4486a06',\n",
       "       '059d8c14b2256a2ba4e38ac511700203',\n",
       "       'ab5de6c17f4086ba09b7145178d83b45',\n",
       "       'cbf5f53f3648de7d1324257caa40bb90',\n",
       "       '66b7666912e1d469cd9817a1cade694c',\n",
       "       '0d19f1c627df49eb223771c28548350e',\n",
       "       '64a5a866461a3b6006efb0075e04dffe',\n",
       "       '7f45518a2f938a92fa99658d98770316',\n",
       "       '673ee14e01a0628b45c78500d402056e',\n",
       "       '00edff4f51a893d80dae2d42a7f45ad1'], dtype='<U32')"
      ]
     },
     "execution_count": 5,
     "metadata": {},
     "output_type": "execute_result"
    }
   ],
   "source": [
    "# full_path = 'E:\\\\SW_WS\\\\github_SW\\\\DSB2017-lfz-pytorch\\\\training\\\\detector\\\\full.npy'\n",
    "full_path = './training/detector/valsplit.npy'\n",
    "full = np.load(full_path, encoding='latin1')\n",
    "full[:10]"
   ]
  },
  {
   "cell_type": "code",
   "execution_count": 2,
   "metadata": {},
   "outputs": [],
   "source": [
    "from training.detector import res18 as model"
   ]
  },
  {
   "cell_type": "code",
   "execution_count": 3,
   "metadata": {},
   "outputs": [],
   "source": [
    "config, net, loss, get_pbb = model.get_model()"
   ]
  },
  {
   "cell_type": "code",
   "execution_count": 26,
   "metadata": {},
   "outputs": [],
   "source": [
    "from torch.nn import DataParallel\n",
    "net = DataParallel(net)"
   ]
  },
  {
   "cell_type": "code",
   "execution_count": 8,
   "metadata": {},
   "outputs": [
    {
     "data": {
      "text/plain": [
       "{'anchors': [10.0, 30.0, 60.0],\n",
       " 'aug_scale': True,\n",
       " 'augtype': {'flip': True, 'rotate': False, 'scale': True, 'swap': False},\n",
       " 'blacklist': ['868b024d9fa388b7ddab12ec1c06af38',\n",
       "  '990fbe3f0a1b53878669967b9afd1441',\n",
       "  'adc3bbc63d40f8761c59be10f1e504c3'],\n",
       " 'bound_size': 12,\n",
       " 'chanel': 1,\n",
       " 'crop_size': [128, 128, 128],\n",
       " 'max_stride': 16,\n",
       " 'num_hard': 2,\n",
       " 'num_neg': 800,\n",
       " 'pad_value': 170,\n",
       " 'r_rand_crop': 0.3,\n",
       " 'reso': 1,\n",
       " 'sizelim': 6.0,\n",
       " 'sizelim2': 30,\n",
       " 'sizelim3': 40,\n",
       " 'stride': 4,\n",
       " 'th_neg': 0.02,\n",
       " 'th_pos_train': 0.5,\n",
       " 'th_pos_val': 1}"
      ]
     },
     "execution_count": 8,
     "metadata": {},
     "output_type": "execute_result"
    }
   ],
   "source": [
    "config"
   ]
  },
  {
   "cell_type": "code",
   "execution_count": 5,
   "metadata": {},
   "outputs": [],
   "source": [
    "datadir = config_training['preprocess_result_path']"
   ]
  },
  {
   "cell_type": "code",
   "execution_count": 6,
   "metadata": {},
   "outputs": [
    {
     "name": "stdout",
     "output_type": "stream",
     "text": [
      "F:\\LargeFiles\\lfz\\prep_result\\059d8c14b2256a2ba4e38ac511700203_label.npy\n",
      "F:\\LargeFiles\\lfz\\prep_result\\008464bb8521d09a42985dd8add3d0d2_label.npy\n",
      "F:\\LargeFiles\\lfz\\prep_result\\03fb0d0fdb187ee1160f09386b28c3f2_label.npy\n",
      "F:\\LargeFiles\\lfz\\prep_result\\028996723faa7840bb57f57e28275e4c_label.npy\n",
      "F:\\LargeFiles\\lfz\\prep_result\\059_label.npy\n",
      "F:\\LargeFiles\\lfz\\prep_result\\006b96310a37b36cccb2ab48d10b49a3_label.npy\n",
      "F:\\LargeFiles\\lfz\\prep_result\\04e5d435fa01b0958e3274be73312cac_label.npy\n",
      "F:\\LargeFiles\\lfz\\prep_result\\08528b8817429d12b7ce2bf444d264f9_label.npy\n",
      "F:\\LargeFiles\\lfz\\prep_result\\01f1140c8e951e2a921b61c9a7e782c2_label.npy\n",
      "F:\\LargeFiles\\lfz\\prep_result\\04a8c47583142181728056310759dea1_label.npy\n",
      "F:\\LargeFiles\\lfz\\prep_result\\080e6a00e69888fd620894f9fd0714b1_label.npy\n",
      "F:\\LargeFiles\\lfz\\prep_result\\04a52f49cdbfb8b99789b9e93f1ad319_label.npy\n",
      "F:\\LargeFiles\\lfz\\prep_result\\00edff4f51a893d80dae2d42a7f45ad1_label.npy\n",
      "F:\\LargeFiles\\lfz\\prep_result\\079_label.npy\n",
      "F:\\LargeFiles\\lfz\\prep_result\\0852f5124d69d7f8cd35fa31e1364d29_label.npy\n",
      "F:\\LargeFiles\\lfz\\prep_result\\03ff23e445787886f8b0cb192b3c154d_label.npy\n",
      "F:\\LargeFiles\\lfz\\prep_result\\0268f3a7a17412178cfb039e71799a80_label.npy\n",
      "F:\\LargeFiles\\lfz\\prep_result\\080_label.npy\n",
      "F:\\LargeFiles\\lfz\\prep_result\\00cba091fa4ad62cc3200a657aeb957e_label.npy\n",
      "F:\\LargeFiles\\lfz\\prep_result\\086f95a932c83faed289854083f48831_label.npy\n",
      "F:\\LargeFiles\\lfz\\prep_result\\024efb7a1e67dc820eb61cbdaa090166_label.npy\n",
      "F:\\LargeFiles\\lfz\\prep_result\\0257df465d9e4150adef13303433ff1e_label.npy\n",
      "F:\\LargeFiles\\lfz\\prep_result\\0092c13f9e00a3717fdc940641f00015_label.npy\n",
      "F:\\LargeFiles\\lfz\\prep_result\\064366faa1a83fdcb18b2538f1717290_label.npy\n",
      "F:\\LargeFiles\\lfz\\prep_result\\08643d7b9ce18405fb63f63dda258e76_label.npy\n",
      "F:\\LargeFiles\\lfz\\prep_result\\05609fdb8fa0895ac8a9be373144dac7_label.npy\n",
      "F:\\LargeFiles\\lfz\\prep_result\\003f41c78e6acfa92430a057ac0b306e_label.npy\n",
      "F:\\LargeFiles\\lfz\\prep_result\\0482c444ac838adc5aa00d1064c976c1_label.npy\n",
      "F:\\LargeFiles\\lfz\\prep_result\\04a3187ec2ed4198a25033071897bffc_label.npy\n",
      "F:\\LargeFiles\\lfz\\prep_result\\00986bebc45e12038ef0ce3e9962b51a_label.npy\n",
      "F:\\LargeFiles\\lfz\\prep_result\\04fca9fbec0b803326488ade96897f6e_label.npy\n",
      "F:\\LargeFiles\\lfz\\prep_result\\081f4a90f24ac33c14b61b97969b7f81_label.npy\n",
      "F:\\LargeFiles\\lfz\\prep_result\\07bca4290a2530091ce1d5f200d9d526_label.npy\n",
      "F:\\LargeFiles\\lfz\\prep_result\\043ed6cb6054cc13804a3dca342fa4d0_label.npy\n",
      "F:\\LargeFiles\\lfz\\prep_result\\07abb7bec548d1c0ccef088ce934e517_label.npy\n",
      "F:\\LargeFiles\\lfz\\prep_result\\01e349d34c06410e1da273add27be25c_label.npy\n",
      "F:\\LargeFiles\\lfz\\prep_result\\07349deeea878c723317a1ce42cc7e58_label.npy\n",
      "F:\\LargeFiles\\lfz\\prep_result\\0708c00f6117ed977bbe1b462b56848c_label.npy\n",
      "F:\\LargeFiles\\lfz\\prep_result\\01de8323fa065a8963533c4a86f2f6c1_label.npy\n",
      "F:\\LargeFiles\\lfz\\prep_result\\089b8f10743e449a0f64f8f311dd8a46_label.npy\n",
      "F:\\LargeFiles\\lfz\\prep_result\\012_label.npy\n",
      "F:\\LargeFiles\\lfz\\prep_result\\04cfc5efa4c8c2a8944c8b9fa6cb04d1_label.npy\n",
      "F:\\LargeFiles\\lfz\\prep_result\\026be5d5e652b6a7488669d884ebe297_label.npy\n",
      "F:\\LargeFiles\\lfz\\prep_result\\0030a160d58723ff36d73f41b170ec21_label.npy\n",
      "F:\\LargeFiles\\lfz\\prep_result\\025_label.npy\n",
      "F:\\LargeFiles\\lfz\\prep_result\\020_label.npy\n",
      "F:\\LargeFiles\\lfz\\prep_result\\0679e5fd67b7441b8094494033f3881f_label.npy\n",
      "F:\\LargeFiles\\lfz\\prep_result\\0700108170c91ea2219006e9484999ef_label.npy\n",
      "F:\\LargeFiles\\lfz\\prep_result\\0121c2845f2b7df060945b072b2515d7_label.npy\n",
      "F:\\LargeFiles\\lfz\\prep_result\\013395589c01aa01f8df81d80fb0e2b8_label.npy\n",
      "F:\\LargeFiles\\lfz\\prep_result\\0890a698c0a6ce5db48b1467011bf8d2_label.npy\n",
      "F:\\LargeFiles\\lfz\\prep_result\\05a20caf6ab6df4643644c953f06a5eb_label.npy\n",
      "F:\\LargeFiles\\lfz\\prep_result\\02801e3bbcc6966cb115a962012c35df_label.npy\n",
      "F:\\LargeFiles\\lfz\\prep_result\\0015ceb851d7251b8f399e39779d1e7d_label.npy\n",
      "F:\\LargeFiles\\lfz\\prep_result\\040_label.npy\n",
      "F:\\LargeFiles\\lfz\\prep_result\\0334c8242ce7ee1a6c1263096e4cc535_label.npy\n",
      "F:\\LargeFiles\\lfz\\prep_result\\07fdb853ff90ce3c6d5c91f619ed714e_label.npy\n"
     ]
    }
   ],
   "source": [
    "dataset = data.DataBowl3Detector(\n",
    "    datadir,\n",
    "    './training/detector/kaggleluna_full.npy',\n",
    "    config,\n",
    "    phase = 'train')"
   ]
  },
  {
   "cell_type": "code",
   "execution_count": 7,
   "metadata": {},
   "outputs": [],
   "source": [
    "d1 = dataset[0]"
   ]
  },
  {
   "cell_type": "code",
   "execution_count": 8,
   "metadata": {},
   "outputs": [
    {
     "data": {
      "text/plain": [
       "3"
      ]
     },
     "execution_count": 8,
     "metadata": {},
     "output_type": "execute_result"
    }
   ],
   "source": [
    "len(d1)"
   ]
  },
  {
   "cell_type": "code",
   "execution_count": 9,
   "metadata": {},
   "outputs": [
    {
     "data": {
      "text/plain": [
       "torch.Size([1, 128, 128, 128])"
      ]
     },
     "execution_count": 9,
     "metadata": {},
     "output_type": "execute_result"
    }
   ],
   "source": [
    "# 3D Crop\n",
    "d1[0].shape"
   ]
  },
  {
   "cell_type": "code",
   "execution_count": 10,
   "metadata": {},
   "outputs": [
    {
     "data": {
      "text/plain": [
       "torch.Size([32, 32, 32, 3, 5])"
      ]
     },
     "execution_count": 10,
     "metadata": {},
     "output_type": "execute_result"
    }
   ],
   "source": [
    "d1[1].shape"
   ]
  },
  {
   "cell_type": "code",
   "execution_count": 11,
   "metadata": {},
   "outputs": [
    {
     "data": {
      "text/plain": [
       "(3, 32, 32, 32)"
      ]
     },
     "execution_count": 11,
     "metadata": {},
     "output_type": "execute_result"
    }
   ],
   "source": [
    "d1[2].shape"
   ]
  },
  {
   "cell_type": "code",
   "execution_count": 8,
   "metadata": {},
   "outputs": [],
   "source": [
    "batch_size = 1\n",
    "workers = 1"
   ]
  },
  {
   "cell_type": "code",
   "execution_count": 9,
   "metadata": {},
   "outputs": [
    {
     "data": {
      "text/plain": [
       "21"
      ]
     },
     "execution_count": 9,
     "metadata": {},
     "output_type": "execute_result"
    }
   ],
   "source": [
    "len(dataset)"
   ]
  },
  {
   "cell_type": "code",
   "execution_count": 10,
   "metadata": {},
   "outputs": [],
   "source": [
    "train_loader = DataLoader(\n",
    "    dataset,\n",
    "    batch_size = batch_size,\n",
    "    shuffle = True,\n",
    "    num_workers = workers,\n",
    "    pin_memory=True)"
   ]
  },
  {
   "cell_type": "code",
   "execution_count": 11,
   "metadata": {},
   "outputs": [
    {
     "data": {
      "text/plain": [
       "21"
      ]
     },
     "execution_count": 11,
     "metadata": {},
     "output_type": "execute_result"
    }
   ],
   "source": [
    "len(train_loader)"
   ]
  },
  {
   "cell_type": "code",
   "execution_count": 17,
   "metadata": {},
   "outputs": [
    {
     "data": {
      "text/plain": [
       "3"
      ]
     },
     "execution_count": 17,
     "metadata": {},
     "output_type": "execute_result"
    }
   ],
   "source": [
    "len(t1)  # data, target, coord"
   ]
  },
  {
   "cell_type": "code",
   "execution_count": 18,
   "metadata": {},
   "outputs": [
    {
     "data": {
      "text/plain": [
       "torch.Size([1, 128, 128, 128])"
      ]
     },
     "execution_count": 18,
     "metadata": {},
     "output_type": "execute_result"
    }
   ],
   "source": [
    "# 3D Crop\n",
    "t1[0].shape"
   ]
  },
  {
   "cell_type": "code",
   "execution_count": 19,
   "metadata": {},
   "outputs": [
    {
     "data": {
      "text/plain": [
       "torch.Size([32, 32, 32, 3, 5])"
      ]
     },
     "execution_count": 19,
     "metadata": {},
     "output_type": "execute_result"
    }
   ],
   "source": [
    "t1[1].shape"
   ]
  },
  {
   "cell_type": "code",
   "execution_count": 20,
   "metadata": {},
   "outputs": [
    {
     "data": {
      "text/plain": [
       "(3, 32, 32, 32)"
      ]
     },
     "execution_count": 20,
     "metadata": {},
     "output_type": "execute_result"
    }
   ],
   "source": [
    "t1[2].shape"
   ]
  },
  {
   "cell_type": "code",
   "execution_count": 23,
   "metadata": {},
   "outputs": [
    {
     "name": "stdout",
     "output_type": "stream",
     "text": [
      "F:\\LargeFiles\\lfz\\prep_result\\059d8c14b2256a2ba4e38ac511700203_label.npy\n",
      "F:\\LargeFiles\\lfz\\prep_result\\008464bb8521d09a42985dd8add3d0d2_label.npy\n",
      "F:\\LargeFiles\\lfz\\prep_result\\03fb0d0fdb187ee1160f09386b28c3f2_label.npy\n",
      "F:\\LargeFiles\\lfz\\prep_result\\028996723faa7840bb57f57e28275e4c_label.npy\n",
      "F:\\LargeFiles\\lfz\\prep_result\\059_label.npy\n",
      "F:\\LargeFiles\\lfz\\prep_result\\006b96310a37b36cccb2ab48d10b49a3_label.npy\n",
      "F:\\LargeFiles\\lfz\\prep_result\\04e5d435fa01b0958e3274be73312cac_label.npy\n",
      "F:\\LargeFiles\\lfz\\prep_result\\08528b8817429d12b7ce2bf444d264f9_label.npy\n",
      "F:\\LargeFiles\\lfz\\prep_result\\01f1140c8e951e2a921b61c9a7e782c2_label.npy\n",
      "F:\\LargeFiles\\lfz\\prep_result\\04a8c47583142181728056310759dea1_label.npy\n",
      "F:\\LargeFiles\\lfz\\prep_result\\080e6a00e69888fd620894f9fd0714b1_label.npy\n",
      "F:\\LargeFiles\\lfz\\prep_result\\04a52f49cdbfb8b99789b9e93f1ad319_label.npy\n",
      "F:\\LargeFiles\\lfz\\prep_result\\00edff4f51a893d80dae2d42a7f45ad1_label.npy\n",
      "F:\\LargeFiles\\lfz\\prep_result\\079_label.npy\n",
      "F:\\LargeFiles\\lfz\\prep_result\\0852f5124d69d7f8cd35fa31e1364d29_label.npy\n",
      "F:\\LargeFiles\\lfz\\prep_result\\03ff23e445787886f8b0cb192b3c154d_label.npy\n",
      "F:\\LargeFiles\\lfz\\prep_result\\0268f3a7a17412178cfb039e71799a80_label.npy\n",
      "F:\\LargeFiles\\lfz\\prep_result\\080_label.npy\n",
      "F:\\LargeFiles\\lfz\\prep_result\\00cba091fa4ad62cc3200a657aeb957e_label.npy\n",
      "F:\\LargeFiles\\lfz\\prep_result\\086f95a932c83faed289854083f48831_label.npy\n",
      "F:\\LargeFiles\\lfz\\prep_result\\024efb7a1e67dc820eb61cbdaa090166_label.npy\n",
      "F:\\LargeFiles\\lfz\\prep_result\\0257df465d9e4150adef13303433ff1e_label.npy\n",
      "F:\\LargeFiles\\lfz\\prep_result\\0092c13f9e00a3717fdc940641f00015_label.npy\n",
      "F:\\LargeFiles\\lfz\\prep_result\\064366faa1a83fdcb18b2538f1717290_label.npy\n",
      "F:\\LargeFiles\\lfz\\prep_result\\08643d7b9ce18405fb63f63dda258e76_label.npy\n",
      "F:\\LargeFiles\\lfz\\prep_result\\05609fdb8fa0895ac8a9be373144dac7_label.npy\n",
      "F:\\LargeFiles\\lfz\\prep_result\\003f41c78e6acfa92430a057ac0b306e_label.npy\n",
      "F:\\LargeFiles\\lfz\\prep_result\\0482c444ac838adc5aa00d1064c976c1_label.npy\n",
      "F:\\LargeFiles\\lfz\\prep_result\\04a3187ec2ed4198a25033071897bffc_label.npy\n",
      "F:\\LargeFiles\\lfz\\prep_result\\00986bebc45e12038ef0ce3e9962b51a_label.npy\n",
      "F:\\LargeFiles\\lfz\\prep_result\\04fca9fbec0b803326488ade96897f6e_label.npy\n",
      "F:\\LargeFiles\\lfz\\prep_result\\081f4a90f24ac33c14b61b97969b7f81_label.npy\n",
      "F:\\LargeFiles\\lfz\\prep_result\\07bca4290a2530091ce1d5f200d9d526_label.npy\n",
      "F:\\LargeFiles\\lfz\\prep_result\\043ed6cb6054cc13804a3dca342fa4d0_label.npy\n",
      "F:\\LargeFiles\\lfz\\prep_result\\07abb7bec548d1c0ccef088ce934e517_label.npy\n",
      "F:\\LargeFiles\\lfz\\prep_result\\01e349d34c06410e1da273add27be25c_label.npy\n",
      "F:\\LargeFiles\\lfz\\prep_result\\07349deeea878c723317a1ce42cc7e58_label.npy\n",
      "F:\\LargeFiles\\lfz\\prep_result\\0708c00f6117ed977bbe1b462b56848c_label.npy\n",
      "F:\\LargeFiles\\lfz\\prep_result\\01de8323fa065a8963533c4a86f2f6c1_label.npy\n",
      "F:\\LargeFiles\\lfz\\prep_result\\089b8f10743e449a0f64f8f311dd8a46_label.npy\n",
      "F:\\LargeFiles\\lfz\\prep_result\\012_label.npy\n",
      "F:\\LargeFiles\\lfz\\prep_result\\04cfc5efa4c8c2a8944c8b9fa6cb04d1_label.npy\n",
      "F:\\LargeFiles\\lfz\\prep_result\\026be5d5e652b6a7488669d884ebe297_label.npy\n",
      "F:\\LargeFiles\\lfz\\prep_result\\0030a160d58723ff36d73f41b170ec21_label.npy\n",
      "F:\\LargeFiles\\lfz\\prep_result\\025_label.npy\n",
      "F:\\LargeFiles\\lfz\\prep_result\\020_label.npy\n",
      "F:\\LargeFiles\\lfz\\prep_result\\0679e5fd67b7441b8094494033f3881f_label.npy\n",
      "F:\\LargeFiles\\lfz\\prep_result\\0700108170c91ea2219006e9484999ef_label.npy\n",
      "F:\\LargeFiles\\lfz\\prep_result\\0121c2845f2b7df060945b072b2515d7_label.npy\n",
      "F:\\LargeFiles\\lfz\\prep_result\\013395589c01aa01f8df81d80fb0e2b8_label.npy\n",
      "F:\\LargeFiles\\lfz\\prep_result\\0890a698c0a6ce5db48b1467011bf8d2_label.npy\n",
      "F:\\LargeFiles\\lfz\\prep_result\\05a20caf6ab6df4643644c953f06a5eb_label.npy\n",
      "F:\\LargeFiles\\lfz\\prep_result\\02801e3bbcc6966cb115a962012c35df_label.npy\n",
      "F:\\LargeFiles\\lfz\\prep_result\\0015ceb851d7251b8f399e39779d1e7d_label.npy\n",
      "F:\\LargeFiles\\lfz\\prep_result\\040_label.npy\n",
      "F:\\LargeFiles\\lfz\\prep_result\\0334c8242ce7ee1a6c1263096e4cc535_label.npy\n",
      "F:\\LargeFiles\\lfz\\prep_result\\07fdb853ff90ce3c6d5c91f619ed714e_label.npy\n"
     ]
    }
   ],
   "source": [
    "dataset = data.DataBowl3Detector(\n",
    "    datadir,\n",
    "    './training/detector/kaggleluna_full.npy',  # valsplit.npy\n",
    "    config,\n",
    "    phase = 'val')"
   ]
  },
  {
   "cell_type": "code",
   "execution_count": 24,
   "metadata": {},
   "outputs": [
    {
     "data": {
      "text/plain": [
       "15"
      ]
     },
     "execution_count": 24,
     "metadata": {},
     "output_type": "execute_result"
    }
   ],
   "source": [
    "len(dataset)"
   ]
  },
  {
   "cell_type": "code",
   "execution_count": 14,
   "metadata": {},
   "outputs": [],
   "source": [
    "val_loader = DataLoader(\n",
    "    dataset,\n",
    "    batch_size = batch_size,\n",
    "    shuffle = False,\n",
    "    num_workers = workers,\n",
    "    pin_memory=True)"
   ]
  },
  {
   "cell_type": "code",
   "execution_count": 4,
   "metadata": {},
   "outputs": [],
   "source": [
    "import torch\n"
   ]
  },
  {
   "cell_type": "code",
   "execution_count": 13,
   "metadata": {},
   "outputs": [],
   "source": [
    "resume = './training/detector/results/res18/001.ckpt'\n",
    "checkpoint = torch.load(resume)"
   ]
  },
  {
   "cell_type": "code",
   "execution_count": 14,
   "metadata": {},
   "outputs": [],
   "source": [
    "net = net.cpu()"
   ]
  },
  {
   "cell_type": "code",
   "execution_count": 15,
   "metadata": {},
   "outputs": [],
   "source": [
    "net.load_state_dict(checkpoint['state_dict'])"
   ]
  },
  {
   "cell_type": "code",
   "execution_count": 45,
   "metadata": {},
   "outputs": [
    {
     "data": {
      "text/plain": [
       "True"
      ]
     },
     "execution_count": 45,
     "metadata": {},
     "output_type": "execute_result"
    }
   ],
   "source": [
    "next(net.parameters()).is_cuda"
   ]
  },
  {
   "cell_type": "code",
   "execution_count": 18,
   "metadata": {},
   "outputs": [
    {
     "data": {
      "text/plain": [
       "2"
      ]
     },
     "execution_count": 18,
     "metadata": {},
     "output_type": "execute_result"
    }
   ],
   "source": [
    "checkpoint['epoch'] + 1"
   ]
  },
  {
   "cell_type": "code",
   "execution_count": 19,
   "metadata": {},
   "outputs": [
    {
     "data": {
      "text/plain": [
       "'results\\\\res18'"
      ]
     },
     "execution_count": 19,
     "metadata": {},
     "output_type": "execute_result"
    }
   ],
   "source": [
    "checkpoint['save_dir']"
   ]
  },
  {
   "cell_type": "code",
   "execution_count": 21,
   "metadata": {},
   "outputs": [
    {
     "ename": "AttributeError",
     "evalue": "'Net' object has no attribute 'items'",
     "output_type": "error",
     "traceback": [
      "\u001b[1;31m---------------------------------------------------------------------------\u001b[0m",
      "\u001b[1;31mAttributeError\u001b[0m                            Traceback (most recent call last)",
      "\u001b[1;32m<ipython-input-21-4f6c74fcf16b>\u001b[0m in \u001b[0;36m<module>\u001b[1;34m()\u001b[0m\n\u001b[0;32m      1\u001b[0m \u001b[0mcpu_model_dict\u001b[0m \u001b[1;33m=\u001b[0m \u001b[1;33m{\u001b[0m\u001b[1;33m}\u001b[0m\u001b[1;33m\u001b[0m\u001b[0m\n\u001b[1;32m----> 2\u001b[1;33m \u001b[1;32mfor\u001b[0m \u001b[0mkey\u001b[0m\u001b[1;33m,\u001b[0m \u001b[0mval\u001b[0m \u001b[1;32min\u001b[0m \u001b[0mnet\u001b[0m\u001b[1;33m.\u001b[0m\u001b[0mitems\u001b[0m\u001b[1;33m(\u001b[0m\u001b[1;33m)\u001b[0m\u001b[1;33m:\u001b[0m\u001b[1;33m\u001b[0m\u001b[0m\n\u001b[0m\u001b[0;32m      3\u001b[0m     \u001b[1;31m# cpu_model_dict[key] = val.cpu()\u001b[0m\u001b[1;33m\u001b[0m\u001b[1;33m\u001b[0m\u001b[0m\n\u001b[0;32m      4\u001b[0m     \u001b[0mprint\u001b[0m\u001b[1;33m(\u001b[0m\u001b[0mkey\u001b[0m\u001b[1;33m)\u001b[0m\u001b[1;33m\u001b[0m\u001b[0m\n",
      "\u001b[1;32mc:\\users\\hasee\\appdata\\local\\programs\\python\\python35\\lib\\site-packages\\torch\\nn\\modules\\module.py\u001b[0m in \u001b[0;36m__getattr__\u001b[1;34m(self, name)\u001b[0m\n\u001b[0;32m    516\u001b[0m                 \u001b[1;32mreturn\u001b[0m \u001b[0mmodules\u001b[0m\u001b[1;33m[\u001b[0m\u001b[0mname\u001b[0m\u001b[1;33m]\u001b[0m\u001b[1;33m\u001b[0m\u001b[0m\n\u001b[0;32m    517\u001b[0m         raise AttributeError(\"'{}' object has no attribute '{}'\".format(\n\u001b[1;32m--> 518\u001b[1;33m             type(self).__name__, name))\n\u001b[0m\u001b[0;32m    519\u001b[0m \u001b[1;33m\u001b[0m\u001b[0m\n\u001b[0;32m    520\u001b[0m     \u001b[1;32mdef\u001b[0m \u001b[0m__setattr__\u001b[0m\u001b[1;33m(\u001b[0m\u001b[0mself\u001b[0m\u001b[1;33m,\u001b[0m \u001b[0mname\u001b[0m\u001b[1;33m,\u001b[0m \u001b[0mvalue\u001b[0m\u001b[1;33m)\u001b[0m\u001b[1;33m:\u001b[0m\u001b[1;33m\u001b[0m\u001b[0m\n",
      "\u001b[1;31mAttributeError\u001b[0m: 'Net' object has no attribute 'items'"
     ]
    }
   ],
   "source": [
    "cpu_model_dict = {}\n",
    "for key, val in net.items():\n",
    "    # cpu_model_dict[key] = val.cpu()\n",
    "    print(key)"
   ]
  },
  {
   "cell_type": "code",
   "execution_count": 25,
   "metadata": {},
   "outputs": [],
   "source": [
    "net?"
   ]
  },
  {
   "cell_type": "code",
   "execution_count": null,
   "metadata": {},
   "outputs": [],
   "source": []
  }
 ],
 "metadata": {
  "kernelspec": {
   "display_name": "Python 3",
   "language": "python",
   "name": "python3"
  },
  "language_info": {
   "codemirror_mode": {
    "name": "ipython",
    "version": 3
   },
   "file_extension": ".py",
   "mimetype": "text/x-python",
   "name": "python",
   "nbconvert_exporter": "python",
   "pygments_lexer": "ipython3",
   "version": "3.5.2"
  }
 },
 "nbformat": 4,
 "nbformat_minor": 2
}
