{
 "cells": [
  {
   "cell_type": "code",
   "execution_count": 21,
   "metadata": {},
   "outputs": [],
   "source": [
    "from training.config_training import config\n",
    "import numpy as np\n",
    "import pandas\n",
    "import os"
   ]
  },
  {
   "cell_type": "code",
   "execution_count": 2,
   "metadata": {},
   "outputs": [
    {
     "data": {
      "text/plain": [
       "['./detector/labels/label_job5.csv',\n",
       " './detector/labels/label_job4_2.csv',\n",
       " './detector/labels/label_job4_1.csv',\n",
       " './detector/labels/label_job0.csv',\n",
       " './detector/labels/label_qualified.csv']"
      ]
     },
     "execution_count": 2,
     "metadata": {},
     "output_type": "execute_result"
    }
   ],
   "source": [
    "alllabelfiles = config['stage1_annos_path']\n",
    "alllabelfiles"
   ]
  },
  {
   "cell_type": "code",
   "execution_count": 14,
   "metadata": {},
   "outputs": [],
   "source": [
    "tmp = []\n",
    "for f in alllabelfiles:\n",
    "    f = os.path.join(os.getcwd(), 'training', f)\n",
    "    content = np.array(pandas.read_csv(f))\n",
    "    content = content[content[:,0]!=np.nan]\n",
    "    tmp.append(content[:,:5])\n",
    "alllabel = np.concatenate(tmp,0)"
   ]
  },
  {
   "cell_type": "code",
   "execution_count": 16,
   "metadata": {},
   "outputs": [
    {
     "data": {
      "text/plain": [
       "(2236, 5)"
      ]
     },
     "execution_count": 16,
     "metadata": {},
     "output_type": "execute_result"
    }
   ],
   "source": [
    "alllabel.shape"
   ]
  },
  {
   "cell_type": "markdown",
   "metadata": {},
   "source": [
    "See a sample annotation"
   ]
  },
  {
   "cell_type": "code",
   "execution_count": 20,
   "metadata": {},
   "outputs": [
    {
     "data": {
      "text/plain": [
       "array(['9e922147900b3984c9345bdda573e882', 381.662, 372.0986, 97.0,\n",
       "       9.5079], dtype=object)"
      ]
     },
     "execution_count": 20,
     "metadata": {},
     "output_type": "execute_result"
    }
   ],
   "source": [
    "alllabel[-1]"
   ]
  },
  {
   "cell_type": "code",
   "execution_count": 22,
   "metadata": {},
   "outputs": [
    {
     "data": {
      "text/plain": [
       "['0015ceb851d7251b8f399e39779d1e7d',\n",
       " '0030a160d58723ff36d73f41b170ec21',\n",
       " '003f41c78e6acfa92430a057ac0b306e',\n",
       " '006b96310a37b36cccb2ab48d10b49a3',\n",
       " '008464bb8521d09a42985dd8add3d0d2',\n",
       " '0092c13f9e00a3717fdc940641f00015',\n",
       " '00986bebc45e12038ef0ce3e9962b51a',\n",
       " '00cba091fa4ad62cc3200a657aeb957e',\n",
       " '00edff4f51a893d80dae2d42a7f45ad1']"
      ]
     },
     "execution_count": 22,
     "metadata": {},
     "output_type": "execute_result"
    }
   ],
   "source": [
    "filelist = os.listdir(config['stage1_data_path'])\n",
    "filelist"
   ]
  },
  {
   "cell_type": "code",
   "execution_count": 23,
   "metadata": {},
   "outputs": [
    {
     "name": "stdout",
     "output_type": "stream",
     "text": [
      "['0030a160d58723ff36d73f41b170ec21' 117.9563 156.4961 126 22.2551]\n",
      "['0030a160d58723ff36d73f41b170ec21' 112.0429 116.919 113\n",
      " 10.344000000000001]\n",
      "['003f41c78e6acfa92430a057ac0b306e' 0.0 0.0 0 -1.0]\n",
      "['0092c13f9e00a3717fdc940641f00015' 201.5777 194.2784 96 25.9282]\n",
      "['00986bebc45e12038ef0ce3e9962b51a' 0.0 0.0 0 -1.0]\n",
      "['00cba091fa4ad62cc3200a657aeb957e' 115.2857 139.5495 70 10.7641]\n",
      "['00cba091fa4ad62cc3200a657aeb957e' 111.1147 187.7248 68 16.6603]\n",
      "['00cba091fa4ad62cc3200a657aeb957e' 68.1571 314.4048 31 14.8304]\n",
      "['0015ceb851d7251b8f399e39779d1e7d' 0.0 0.0 0.0 0.0]\n",
      "['006b96310a37b36cccb2ab48d10b49a3' 0.0 0.0 0.0 0.0]\n",
      "['008464bb8521d09a42985dd8add3d0d2' 102.7163 296.9362 110.0 13.3988]\n",
      "['00edff4f51a893d80dae2d42a7f45ad1' 0.0 0.0 0.0 0.0]\n"
     ]
    }
   ],
   "source": [
    "for label in alllabel:\n",
    "    if label[0] in filelist:\n",
    "        print(label)"
   ]
  },
  {
   "cell_type": "code",
   "execution_count": 28,
   "metadata": {},
   "outputs": [],
   "source": [
    "prep_folder = config['preprocess_result_path']\n",
    "data_path = config['stage1_data_path']\n",
    "annos= alllabel\n",
    "# filelist=filelist\n",
    "# Just preprocess one patient for demo.\n",
    "filelist = ['0030a160d58723ff36d73f41b170ec21']\n",
    "data_path=data_path\n",
    "prep_folder=prep_folder"
   ]
  },
  {
   "cell_type": "code",
   "execution_count": 29,
   "metadata": {},
   "outputs": [
    {
     "data": {
      "text/plain": [
       "'F:\\\\LargeFiles\\\\lfz\\\\prep_result\\\\'"
      ]
     },
     "execution_count": 29,
     "metadata": {},
     "output_type": "execute_result"
    }
   ],
   "source": [
    "prep_folder"
   ]
  },
  {
   "cell_type": "code",
   "execution_count": 30,
   "metadata": {},
   "outputs": [
    {
     "data": {
      "text/plain": [
       "'F:\\\\LargeFiles\\\\lfz\\\\stage1_sub\\\\'"
      ]
     },
     "execution_count": 30,
     "metadata": {},
     "output_type": "execute_result"
    }
   ],
   "source": [
    "data_path"
   ]
  },
  {
   "cell_type": "code",
   "execution_count": 41,
   "metadata": {},
   "outputs": [],
   "source": [
    "from training.prepare import *"
   ]
  },
  {
   "cell_type": "markdown",
   "metadata": {},
   "source": [
    "## Prep annotations"
   ]
  },
  {
   "cell_type": "code",
   "execution_count": 83,
   "metadata": {},
   "outputs": [
    {
     "data": {
      "text/plain": [
       "array([[126.    , 117.9563, 156.4961,  22.2551],\n",
       "       [113.    , 112.0429, 116.919 ,  10.344 ]])"
      ]
     },
     "execution_count": 83,
     "metadata": {},
     "output_type": "execute_result"
    }
   ],
   "source": [
    "resolution = np.array([1,1,1])\n",
    "name = filelist[id]\n",
    "label = annos[annos[:,0]==name]\n",
    "# swap axis order\n",
    "label = label[:,[3,1,2,4]].astype('float')\n",
    "label"
   ]
  },
  {
   "cell_type": "code",
   "execution_count": 86,
   "metadata": {},
   "outputs": [
    {
     "data": {
      "text/plain": [
       "array([[100.    , 117.9563, 156.4961,  22.2551],\n",
       "       [113.    , 200.    , 116.919 ,  10.344 ]])"
      ]
     },
     "execution_count": 86,
     "metadata": {},
     "output_type": "execute_result"
    }
   ],
   "source": [
    "label[0,0] = 100\n",
    "label[1,1] = 200\n",
    "label"
   ]
  },
  {
   "cell_type": "code",
   "execution_count": 87,
   "metadata": {},
   "outputs": [
    {
     "data": {
      "text/plain": [
       "array([[100.    , 113.    ],\n",
       "       [117.9563, 200.    ],\n",
       "       [156.4961, 116.919 ],\n",
       "       [ 22.2551,  10.344 ]])"
      ]
     },
     "execution_count": 87,
     "metadata": {},
     "output_type": "execute_result"
    }
   ],
   "source": [
    "label2 = np.copy(label).T\n",
    "label2"
   ]
  },
  {
   "cell_type": "code",
   "execution_count": 88,
   "metadata": {},
   "outputs": [
    {
     "data": {
      "text/plain": [
       "array([[100.    , 113.    ],\n",
       "       [156.4961, 116.919 ],\n",
       "       [117.9563, 200.    ],\n",
       "       [ 22.2551,  10.344 ]])"
      ]
     },
     "execution_count": 88,
     "metadata": {},
     "output_type": "execute_result"
    }
   ],
   "source": [
    "# swap axis\n",
    "label2[:3] = label2[:3][[0,2,1]]\n",
    "label2"
   ]
  },
  {
   "cell_type": "code",
   "execution_count": 89,
   "metadata": {},
   "outputs": [
    {
     "data": {
      "text/plain": [
       "array([1.25    , 0.582031, 0.582031], dtype=float32)"
      ]
     },
     "execution_count": 89,
     "metadata": {},
     "output_type": "execute_result"
    }
   ],
   "source": [
    "spacing"
   ]
  },
  {
   "cell_type": "code",
   "execution_count": 90,
   "metadata": {},
   "outputs": [
    {
     "data": {
      "text/plain": [
       "array([1, 1, 1])"
      ]
     },
     "execution_count": 90,
     "metadata": {},
     "output_type": "execute_result"
    }
   ],
   "source": [
    "resolution"
   ]
  },
  {
   "cell_type": "code",
   "execution_count": 91,
   "metadata": {},
   "outputs": [
    {
     "data": {
      "text/plain": [
       "array([[100.    , 113.    ],\n",
       "       [156.4961, 116.919 ],\n",
       "       [117.9563, 200.    ]])"
      ]
     },
     "execution_count": 91,
     "metadata": {},
     "output_type": "execute_result"
    }
   ],
   "source": [
    "label2[:3]"
   ]
  },
  {
   "cell_type": "code",
   "execution_count": 92,
   "metadata": {},
   "outputs": [
    {
     "data": {
      "text/plain": [
       "array([[1.25    ],\n",
       "       [0.582031],\n",
       "       [0.582031]], dtype=float32)"
      ]
     },
     "execution_count": 92,
     "metadata": {},
     "output_type": "execute_result"
    }
   ],
   "source": [
    "np.expand_dims(spacing,1)"
   ]
  },
  {
   "cell_type": "code",
   "execution_count": 93,
   "metadata": {},
   "outputs": [
    {
     "data": {
      "text/plain": [
       "array([[125.        , 141.25      ],\n",
       "       [ 91.08558339,  68.05048384],\n",
       "       [ 68.65422461, 116.40620232],\n",
       "       [ 22.2551    ,  10.344     ]])"
      ]
     },
     "execution_count": 93,
     "metadata": {},
     "output_type": "execute_result"
    }
   ],
   "source": [
    "label2[:3] = label2[:3]*np.expand_dims(spacing,1)/np.expand_dims(resolution,1)\n",
    "label2"
   ]
  },
  {
   "cell_type": "code",
   "execution_count": 94,
   "metadata": {},
   "outputs": [
    {
     "data": {
      "text/plain": [
       "array([[125.        , 141.25      ],\n",
       "       [ 91.08558339,  68.05048384],\n",
       "       [ 68.65422461, 116.40620232],\n",
       "       [ 12.95315837,   6.02052878]])"
      ]
     },
     "execution_count": 94,
     "metadata": {},
     "output_type": "execute_result"
    }
   ],
   "source": [
    "label2[3] = label2[3]*spacing[1]/resolution[1]\n",
    "label2"
   ]
  },
  {
   "cell_type": "code",
   "execution_count": 95,
   "metadata": {},
   "outputs": [
    {
     "data": {
      "text/plain": [
       "array([[ 18, 328],\n",
       "       [ 37, 253],\n",
       "       [ 12, 292]])"
      ]
     },
     "execution_count": 95,
     "metadata": {},
     "output_type": "execute_result"
    }
   ],
   "source": [
    "extendbox"
   ]
  },
  {
   "cell_type": "code",
   "execution_count": 96,
   "metadata": {},
   "outputs": [
    {
     "data": {
      "text/plain": [
       "array([[107.        , 123.25      ],\n",
       "       [ 54.08558339,  31.05048384],\n",
       "       [ 56.65422461, 104.40620232],\n",
       "       [ 12.95315837,   6.02052878]])"
      ]
     },
     "execution_count": 96,
     "metadata": {},
     "output_type": "execute_result"
    }
   ],
   "source": [
    "label2[:3] = label2[:3]-np.expand_dims(extendbox[:,0],1)\n",
    "label2"
   ]
  },
  {
   "cell_type": "code",
   "execution_count": 97,
   "metadata": {},
   "outputs": [
    {
     "data": {
      "text/plain": [
       "array([[107.        ,  54.08558339,  56.65422461,  12.95315837],\n",
       "       [123.25      ,  31.05048384, 104.40620232,   6.02052878]])"
      ]
     },
     "execution_count": 97,
     "metadata": {},
     "output_type": "execute_result"
    }
   ],
   "source": [
    "label2 = label2[:4].T\n",
    "label2"
   ]
  },
  {
   "cell_type": "markdown",
   "metadata": {},
   "source": [
    "## Prep only one stage1 patient\n",
    "Generate one pair of `<id>_clean.npy` and `<id>_label.npy`."
   ]
  },
  {
   "cell_type": "code",
   "execution_count": 42,
   "metadata": {},
   "outputs": [
    {
     "name": "stderr",
     "output_type": "stream",
     "text": [
      "E:\\SW_WS\\github_SW\\DSB2017-lfz-pytorch\\preprocessing\\step1.py:65: RuntimeWarning: invalid value encountered in less\n",
      "  current_bw = scipy.ndimage.filters.gaussian_filter(np.multiply(image[i].astype('float32'), nan_mask), sigma, truncate=2.0) < intensity_th\n"
     ]
    },
    {
     "name": "stdout",
     "output_type": "stream",
     "text": [
      "0030a160d58723ff36d73f41b170ec21\n"
     ]
    }
   ],
   "source": [
    "from preprocessing.step1 import step1_python\n",
    "\n",
    "id = 0\n",
    "resolution = np.array([1,1,1])\n",
    "name = filelist[id]\n",
    "label = annos[annos[:,0]==name]\n",
    "label = label[:,[3,1,2,4]].astype('float')\n",
    "\n",
    "im, m1, m2, spacing = step1_python(os.path.join(data_path,name))\n",
    "Mask = m1+m2\n",
    "\n",
    "newshape = np.round(np.array(Mask.shape)*spacing/resolution)\n",
    "xx,yy,zz= np.where(Mask)\n",
    "box = np.array([[np.min(xx),np.max(xx)],[np.min(yy),np.max(yy)],[np.min(zz),np.max(zz)]])\n",
    "box = box*np.expand_dims(spacing,1)/np.expand_dims(resolution,1)\n",
    "box = np.floor(box).astype('int')\n",
    "margin = 5\n",
    "extendbox = np.vstack([np.max([[0,0,0],box[:,0]-margin],0),np.min([newshape,box[:,1]+2*margin],axis=0).T]).T\n",
    "extendbox = extendbox.astype('int')\n",
    "\n",
    "\n",
    "\n",
    "convex_mask = m1\n",
    "dm1 = process_mask(m1)\n",
    "dm2 = process_mask(m2)\n",
    "dilatedMask = dm1+dm2\n",
    "Mask = m1+m2\n",
    "extramask = dilatedMask ^ Mask # TODO: '-' -> '^'\n",
    "bone_thresh = 210\n",
    "pad_value = 170\n",
    "im[np.isnan(im)]=-2000\n",
    "sliceim = lumTrans(im)\n",
    "sliceim = sliceim*dilatedMask+pad_value*(1-dilatedMask).astype('uint8')\n",
    "bones = sliceim*extramask>bone_thresh\n",
    "sliceim[bones] = pad_value\n",
    "sliceim1,_ = resample(sliceim,spacing,resolution,order=1)\n",
    "sliceim2 = sliceim1[extendbox[0,0]:extendbox[0,1],\n",
    "            extendbox[1,0]:extendbox[1,1],\n",
    "            extendbox[2,0]:extendbox[2,1]]\n",
    "sliceim = sliceim2[np.newaxis,...]\n",
    "np.save(os.path.join(prep_folder,name+'_clean.npy'),sliceim)\n",
    "\n",
    "\n",
    "if len(label)==0:\n",
    "    label2 = np.array([[0,0,0,0]])\n",
    "elif len(label[0])==0:\n",
    "    label2 = np.array([[0,0,0,0]])\n",
    "elif label[0][0]==0:\n",
    "    label2 = np.array([[0,0,0,0]])\n",
    "else:\n",
    "    haslabel = 1\n",
    "    label2 = np.copy(label).T\n",
    "    label2[:3] = label2[:3][[0,2,1]]\n",
    "    label2[:3] = label2[:3]*np.expand_dims(spacing,1)/np.expand_dims(resolution,1)\n",
    "    label2[3] = label2[3]*spacing[1]/resolution[1]\n",
    "    label2[:3] = label2[:3]-np.expand_dims(extendbox[:,0],1)\n",
    "    label2 = label2[:4].T\n",
    "np.save(os.path.join(prep_folder,name+'_label.npy'),label2)\n",
    "\n",
    "print(name)"
   ]
  },
  {
   "cell_type": "markdown",
   "metadata": {},
   "source": [
    "## Visualize preprocessed stage1 datasets"
   ]
  },
  {
   "cell_type": "code",
   "execution_count": 43,
   "metadata": {},
   "outputs": [],
   "source": [
    "import matplotlib\n",
    "%matplotlib inline\n",
    "import matplotlib.patches as patches\n",
    "import matplotlib.pyplot as plt"
   ]
  },
  {
   "cell_type": "code",
   "execution_count": 101,
   "metadata": {},
   "outputs": [
    {
     "data": {
      "text/plain": [
       "(1, 310, 216, 280)"
      ]
     },
     "execution_count": 101,
     "metadata": {},
     "output_type": "execute_result"
    }
   ],
   "source": [
    "import numpy as np\n",
    "base = 'F:\\\\LargeFiles\\\\lfz\\\\prep_result\\\\'\n",
    "patient_id = '0030a160d58723ff36d73f41b170ec21'\n",
    "img = np.load(base+ patient_id +'_clean.npy')\n",
    "# A list of annotations. each annotation in (z, y, x, r) order, floating point number.\n",
    "label = np.load(base+ patient_id +'_label.npy')\n",
    "img.shape"
   ]
  },
  {
   "cell_type": "markdown",
   "metadata": {},
   "source": [
    "Annotations in CSV\n",
    "```\n",
    "['0030a160d58723ff36d73f41b170ec21' 117.9563 156.4961 126 22.2551]\n",
    "['0030a160d58723ff36d73f41b170ec21' 112.0429 116.919  113 10.344000000000001]\n",
    "```"
   ]
  },
  {
   "cell_type": "code",
   "execution_count": 102,
   "metadata": {},
   "outputs": [
    {
     "data": {
      "text/plain": [
       "1.7181215086155082"
      ]
     },
     "execution_count": 102,
     "metadata": {},
     "output_type": "execute_result"
    }
   ],
   "source": [
    "22.2551 / 12.95315837"
   ]
  },
  {
   "cell_type": "code",
   "execution_count": 103,
   "metadata": {},
   "outputs": [
    {
     "data": {
      "text/plain": [
       "1.7182724252491695"
      ]
     },
     "execution_count": 103,
     "metadata": {},
     "output_type": "execute_result"
    }
   ],
   "source": [
    "10.344 / 6.02"
   ]
  },
  {
   "cell_type": "code",
   "execution_count": 105,
   "metadata": {},
   "outputs": [
    {
     "name": "stdout",
     "output_type": "stream",
     "text": [
      "(2, 4)\n"
     ]
    },
    {
     "data": {
      "text/plain": [
       "array([[139.5       ,  54.08558339,  56.65422461,  12.95315837],\n",
       "       [123.25      ,  31.05048384,  53.21244243,   6.02052878]])"
      ]
     },
     "execution_count": 105,
     "metadata": {},
     "output_type": "execute_result"
    }
   ],
   "source": [
    "print(label.shape)\n",
    "label"
   ]
  },
  {
   "cell_type": "code",
   "execution_count": 61,
   "metadata": {},
   "outputs": [],
   "source": [
    "# Take the first annotation if any.\n",
    "box = label[0]\n",
    "# Convert the floating point numbers to integer.\n",
    "box = box.astype(int)"
   ]
  },
  {
   "cell_type": "code",
   "execution_count": 98,
   "metadata": {},
   "outputs": [
    {
     "data": {
      "text/plain": [
       "array([139,  54,  56,  12])"
      ]
     },
     "execution_count": 98,
     "metadata": {},
     "output_type": "execute_result"
    }
   ],
   "source": [
    "box"
   ]
  },
  {
   "cell_type": "code",
   "execution_count": 62,
   "metadata": {},
   "outputs": [
    {
     "data": {
      "text/plain": [
       "<matplotlib.patches.Rectangle at 0x2b66d2639b0>"
      ]
     },
     "execution_count": 62,
     "metadata": {},
     "output_type": "execute_result"
    },
    {
     "data": {
      "image/png": "[encoded data removed]",
      "text/plain": [
       "<matplotlib.figure.Figure at 0x2b66b222048>"
      ]
     },
     "metadata": {},
     "output_type": "display_data"
    }
   ],
   "source": [
    "ax = plt.subplot(1,1,1)\n",
    "plt.imshow(img[0,box[0]],'gray') # slice by z axis of the box - box[0].\n",
    "plt.axis('off')\n",
    "rect = patches.Rectangle((box[2]-box[3],box[1]-box[3]),box[3]*2,box[3]*2,linewidth=2,edgecolor='red',facecolor='none')\n",
    "ax.add_patch(rect)"
   ]
  },
  {
   "cell_type": "code",
   "execution_count": 99,
   "metadata": {},
   "outputs": [],
   "source": [
    "patches.Rectangle?"
   ]
  },
  {
   "cell_type": "code",
   "execution_count": null,
   "metadata": {},
   "outputs": [],
   "source": []
  }
 ],
 "metadata": {
  "kernelspec": {
   "display_name": "Python 3",
   "language": "python",
   "name": "python3"
  },
  "language_info": {
   "codemirror_mode": {
    "name": "ipython",
    "version": 3
   },
   "file_extension": ".py",
   "mimetype": "text/x-python",
   "name": "python",
   "nbconvert_exporter": "python",
   "pygments_lexer": "ipython3",
   "version": "3.5.2"
  }
 },
 "nbformat": 4,
 "nbformat_minor": 2
}
