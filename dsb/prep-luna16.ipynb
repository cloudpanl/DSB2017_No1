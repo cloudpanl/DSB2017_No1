{
 "cells": [
  {
   "cell_type": "code",
   "execution_count": 1,
   "metadata": {},
   "outputs": [],
   "source": [
    "from training.config_training import config"
   ]
  },
  {
   "cell_type": "code",
   "execution_count": 14,
   "metadata": {},
   "outputs": [],
   "source": [
    "import numpy as np\n",
    "import pandas\n",
    "import os"
   ]
  },
  {
   "cell_type": "code",
   "execution_count": 29,
   "metadata": {},
   "outputs": [],
   "source": [
    "patient_id =  '012'# '0015ceb851d7251b8f399e39779d1e7d'\n",
    "filename = 'F:\\\\LargeFiles\\\\lfz\\\\prep_result\\\\' + patient_id + '_label.npy'"
   ]
  },
  {
   "cell_type": "code",
   "execution_count": 30,
   "metadata": {},
   "outputs": [
    {
     "data": {
      "text/plain": [
       "array([[103.640012, 132.75    ,  97.67    ,  10.466   ]])"
      ]
     },
     "execution_count": 30,
     "metadata": {},
     "output_type": "execute_result"
    }
   ],
   "source": [
    "label = np.load(filename)\n",
    "label"
   ]
  },
  {
   "cell_type": "code",
   "execution_count": 3,
   "metadata": {},
   "outputs": [
    {
     "data": {
      "text/plain": [
       "True"
      ]
     },
     "execution_count": 3,
     "metadata": {},
     "output_type": "execute_result"
    }
   ],
   "source": [
    "import os.path\n",
    "os.path.isfile(filename) "
   ]
  },
  {
   "cell_type": "code",
   "execution_count": 4,
   "metadata": {},
   "outputs": [],
   "source": [
    "import SimpleITK"
   ]
  },
  {
   "cell_type": "code",
   "execution_count": 18,
   "metadata": {},
   "outputs": [],
   "source": [
    "mhd_file = 'E:\\\\SW_WS\\\\github_SW\\\\kaggle_ndsb2017\\\\luna_raw\\\\subset1\\\\1.3.6.1.4.1.14519.5.2.1.6279.6001.100684836163890911914061745866.mhd'\n",
    "itk_img = SimpleITK.ReadImage(mhd_file)"
   ]
  },
  {
   "cell_type": "code",
   "execution_count": 19,
   "metadata": {},
   "outputs": [
    {
     "data": {
      "text/plain": [
       "<SimpleITK.SimpleITK.Image; proxy of <Swig Object of type 'std::vector< itk::simple::Image >::value_type *' at 0x000001E2997B3B40> >"
      ]
     },
     "execution_count": 19,
     "metadata": {},
     "output_type": "execute_result"
    }
   ],
   "source": [
    "mhd_file = 'E:\\\\SW_WS\\\\github_SW\\\\kaggle_ndsb2017\\\\luna_raw\\\\subset1\\\\1.3.6.1.4.1.14519.5.2.1.6279.6001.100684836163890911914061745866.mhd'\n",
    "itk_img = SimpleITK.ReadImage(mhd_file)"
   ]
  },
  {
   "cell_type": "code",
   "execution_count": 20,
   "metadata": {},
   "outputs": [],
   "source": [
    "mhd_file = 'F:\\\\LargeFiles\\\\lfz\\\\luna\\\\allset\\\\006.mhd'\n",
    "mhd_file = 'F:\\\\LargeFiles\\\\lfz\\\\luna\\\\seg-lungs-LUNA16\\\\006.mhd'\n",
    "itk_img = SimpleITK.ReadImage(mhd_file)"
   ]
  },
  {
   "cell_type": "code",
   "execution_count": 2,
   "metadata": {},
   "outputs": [],
   "source": [
    "luna_segment = config['luna_segment']\n",
    "savepath = config['preprocess_result_path']\n",
    "luna_data = config['luna_data']\n",
    "luna_label = config['luna_label']"
   ]
  },
  {
   "cell_type": "code",
   "execution_count": 3,
   "metadata": {},
   "outputs": [
    {
     "data": {
      "text/plain": [
       "'./detector/labels/lunaqualified.csv'"
      ]
     },
     "execution_count": 3,
     "metadata": {},
     "output_type": "execute_result"
    }
   ],
   "source": [
    "luna_label"
   ]
  },
  {
   "cell_type": "code",
   "execution_count": 15,
   "metadata": {},
   "outputs": [],
   "source": [
    "luna_label_csv = os.path.join(os.getcwd(), 'training', luna_label)"
   ]
  },
  {
   "cell_type": "code",
   "execution_count": 16,
   "metadata": {},
   "outputs": [],
   "source": [
    "annos = np.array(pandas.read_csv(luna_label_csv))"
   ]
  },
  {
   "cell_type": "code",
   "execution_count": 19,
   "metadata": {},
   "outputs": [
    {
     "data": {
      "text/plain": [
       "['006', '012', '020', '025', '029', '038', '040', '059', '079', '080']"
      ]
     },
     "execution_count": 19,
     "metadata": {},
     "output_type": "execute_result"
    }
   ],
   "source": [
    "filelist = [f.split('.mhd')[0] for f in os.listdir(luna_data) if f.endswith('.mhd') ]\n",
    "filelist"
   ]
  },
  {
   "cell_type": "code",
   "execution_count": 30,
   "metadata": {},
   "outputs": [
    {
     "name": "stdout",
     "output_type": "stream",
     "text": [
      "[  12.    -124.83   127.25  -473.06    10.466]\n",
      "[  20.     -57.087   74.259 1790.5     13.694]\n",
      "[  40.     -127.53    -29.608  -253.7       8.2693]\n",
      "[  40.       93.139    -5.6526 -213.91      6.2098]\n",
      "[  79.       69.529   -24.415  -137.82      7.0358]\n",
      "[  80.     -99.859   37.434 -170.46    12.319]\n",
      "[  80.     -78.667   66.422 -168.87    13.025]\n"
     ]
    }
   ],
   "source": [
    "# Check for all annotations related to our subset of LUNA16 datasets(a subset of patients scans).\n",
    "for anno in annos:\n",
    "    if str(int(anno[0])).zfill(3) in filelist:\n",
    "        print (anno)"
   ]
  },
  {
   "cell_type": "code",
   "execution_count": 34,
   "metadata": {},
   "outputs": [
    {
     "data": {
      "text/plain": [
       "'F:\\\\LargeFiles\\\\lfz\\\\luna\\\\seg-lungs-LUNA16\\\\'"
      ]
     },
     "execution_count": 34,
     "metadata": {},
     "output_type": "execute_result"
    }
   ],
   "source": [
    "luna_segment"
   ]
  },
  {
   "cell_type": "code",
   "execution_count": 35,
   "metadata": {},
   "outputs": [
    {
     "data": {
      "text/plain": [
       "'F:\\\\LargeFiles\\\\lfz\\\\luna\\\\allset'"
      ]
     },
     "execution_count": 35,
     "metadata": {},
     "output_type": "execute_result"
    }
   ],
   "source": [
    "luna_data"
   ]
  },
  {
   "cell_type": "markdown",
   "metadata": {},
   "source": [
    "## Visualize preprocessed Luna16 datasets"
   ]
  },
  {
   "cell_type": "code",
   "execution_count": 4,
   "metadata": {},
   "outputs": [],
   "source": [
    "import matplotlib\n",
    "%matplotlib inline\n",
    "import matplotlib.patches as patches\n",
    "import matplotlib.pyplot as plt"
   ]
  },
  {
   "cell_type": "code",
   "execution_count": 5,
   "metadata": {},
   "outputs": [],
   "source": [
    "import numpy as np\n",
    "base = 'F:\\\\LargeFiles\\\\lfz\\\\prep_result\\\\'\n",
    "patient_id = '020'\n",
    "img = np.load(base+ patient_id +'_clean.npy')\n",
    "# A list of annotations. each annotation in (z, y, x, r) order, floating point number.\n",
    "label = np.load(base+ patient_id +'_label.npy')"
   ]
  },
  {
   "cell_type": "code",
   "execution_count": 6,
   "metadata": {},
   "outputs": [
    {
     "data": {
      "text/plain": [
       "(1, 277, 187, 273)"
      ]
     },
     "execution_count": 6,
     "metadata": {},
     "output_type": "execute_result"
    }
   ],
   "source": [
    "img.shape"
   ]
  },
  {
   "cell_type": "code",
   "execution_count": 10,
   "metadata": {},
   "outputs": [
    {
     "data": {
      "text/plain": [
       "array([[142.5     , 100.289941,  47.72925 ,  13.694   ]])"
      ]
     },
     "execution_count": 10,
     "metadata": {},
     "output_type": "execute_result"
    }
   ],
   "source": [
    "label"
   ]
  },
  {
   "cell_type": "code",
   "execution_count": 7,
   "metadata": {},
   "outputs": [],
   "source": [
    "# Take the first annotation if any.\n",
    "box = label[0]\n",
    "# Convert the floating point numbers to integer.\n",
    "box = box.astype(int)"
   ]
  },
  {
   "cell_type": "code",
   "execution_count": 8,
   "metadata": {},
   "outputs": [
    {
     "data": {
      "text/plain": [
       "<matplotlib.patches.Rectangle at 0x24f9ac07518>"
      ]
     },
     "execution_count": 8,
     "metadata": {},
     "output_type": "execute_result"
    },
    {
     "data": {
      "image/png": "[encoded data removed]",
      "text/plain": [
       "<matplotlib.figure.Figure at 0x24f97e36898>"
      ]
     },
     "metadata": {},
     "output_type": "display_data"
    }
   ],
   "source": [
    "ax = plt.subplot(1,1,1)\n",
    "plt.imshow(img[0,box[0]],'gray') # slice by z axis of the box - box[0].\n",
    "plt.axis('off')\n",
    "rect = patches.Rectangle((box[2]-box[3],box[1]-box[3]),box[3]*2,box[3]*2,linewidth=2,edgecolor='red',facecolor='none')\n",
    "ax.add_patch(rect)"
   ]
  },
  {
   "cell_type": "code",
   "execution_count": 32,
   "metadata": {},
   "outputs": [
    {
     "data": {
      "text/plain": [
       "[-57.087, 74.259, 1790.5]"
      ]
     },
     "execution_count": 32,
     "metadata": {},
     "output_type": "execute_result"
    }
   ],
   "source": [
    "c = [  20. ,    -57.087  , 74.259 ,1790.5   ,  13.694]\n",
    "c[1:4]"
   ]
  },
  {
   "cell_type": "code",
   "execution_count": 33,
   "metadata": {},
   "outputs": [],
   "source": [
    "patches.Rectangle?"
   ]
  },
  {
   "cell_type": "code",
   "execution_count": null,
   "metadata": {},
   "outputs": [],
   "source": []
  },
  {
   "cell_type": "code",
   "execution_count": null,
   "metadata": {},
   "outputs": [],
   "source": []
  }
 ],
 "metadata": {
  "kernelspec": {
   "display_name": "Python 3",
   "language": "python",
   "name": "python3"
  },
  "language_info": {
   "codemirror_mode": {
    "name": "ipython",
    "version": 3
   },
   "file_extension": ".py",
   "mimetype": "text/x-python",
   "name": "python",
   "nbconvert_exporter": "python",
   "pygments_lexer": "ipython3",
   "version": "3.5.2"
  }
 },
 "nbformat": 4,
 "nbformat_minor": 2
}
